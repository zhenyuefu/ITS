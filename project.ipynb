{
  "nbformat": 4,
  "nbformat_minor": 0,
  "metadata": {
    "colab": {
      "name": "project.ipynb",
      "provenance": [],
      "collapsed_sections": [],
      "authorship_tag": "ABX9TyNiJMAfVUMrOxJZNeordRxA",
      "include_colab_link": true
    },
    "kernelspec": {
      "name": "python3",
      "display_name": "Python 3"
    }
  },
  "cells": [
    {
      "cell_type": "markdown",
      "metadata": {
        "id": "view-in-github",
        "colab_type": "text"
      },
      "source": [
        "<a href=\"https://colab.research.google.com/github/zhenyuefu/ITS/blob/master/project.ipynb\" target=\"_parent\"><img src=\"https://colab.research.google.com/assets/colab-badge.svg\" alt=\"Open In Colab\"/></a>"
      ]
    },
    {
      "cell_type": "code",
      "metadata": {
        "id": "y6NHVsxF2eB1",
        "colab_type": "code",
        "colab": {}
      },
      "source": [
        "import numpy as np\n",
        "from scipy.stats import multivariate_normal\n",
        "import matplotlib.pyplot as plt\n",
        "# from mpl_toolkits.mplot3d import Axes3D\n",
        "import math\n",
        "\n",
        "# Intervalle de coordonnées\n",
        "XMAX = 200\n",
        "XMIN = 0\n",
        "YMAX = 200\n",
        "YMIN = 0\n",
        "# Paramètre Refroidir\n",
        "L = 200\n",
        "K = 0.99\n",
        "T_init = 100.0\n",
        "T_min = 1e-7\n",
        "S = 0.05\n",
        "\n",
        "# genere des donnes\n",
        "sigma = 500\n",
        "M = 200  # nombre de donnees\n",
        "\n",
        "\n",
        "def gen_mean():\n",
        "    x = np.random.randint(XMIN, XMAX)\n",
        "    y = np.random.randint(YMIN, YMAX)\n",
        "    return (x, y)\n",
        "\n",
        "\n",
        "mean = gen_mean()\n",
        "cov = np.eye(2) * sigma\n",
        "Gaussian = multivariate_normal(mean=mean, cov=cov)\n",
        "X, Y = np.meshgrid(np.linspace(XMIN, XMAX, M), np.linspace(YMIN, YMAX, M))\n",
        "pos = np.dstack([X, Y])\n",
        "temperature_fictive = Gaussian.pdf(pos)*1000000\n",
        "\n",
        "# define function\n",
        "\n",
        "\n",
        "def f(x, y):\n",
        "    return -1*temperature_fictive[y, x]"
      ],
      "execution_count": 0,
      "outputs": []
    },
    {
      "cell_type": "code",
      "metadata": {
        "id": "8TJKA9WgVhHU",
        "colab_type": "code",
        "outputId": "22c23d9d-be64-4e7b-d5b0-853d190c4e05",
        "colab": {
          "base_uri": "https://localhost:8080/",
          "height": 304
        }
      },
      "source": [
        "# init\n",
        "x0 = np.random.randint(XMIN, XMAX)\n",
        "y0 = np.random.randint(YMIN, YMAX)\n",
        "T = T_init\n",
        "x_current = x0\n",
        "y_current = y0\n",
        "x_best = x_current\n",
        "y_best = y_current\n",
        "x_best_history = np.array([x_best])\n",
        "y_best_history = np.array([y_best])\n",
        "\n",
        "while (T > T_min):\n",
        "    counter = 0\n",
        "    for i in range(L):\n",
        "        p = 0\n",
        "        while (p == 0):\n",
        "            x_next = int(x_current + S*np.random.randint(-XMAX, XMAX))\n",
        "            y_next = int(y_current + S*np.random.randint(-YMAX, YMAX))\n",
        "            if (x_next >= XMIN) and (x_next < XMAX) and (y_next >= YMIN) and (y_next < YMAX):\n",
        "                p = 1\n",
        "        if (f(x_best, y_best) > f(x_next, y_next)):\n",
        "            np.append(x_best_history, x_current)\n",
        "            np.append(y_best_history, y_current)\n",
        "            x_best = x_next\n",
        "            y_best = y_next\n",
        "        if (f(x_current, y_current)-f(x_next, y_next) > 0):\n",
        "            x_current = x_next\n",
        "            y_current = y_next\n",
        "        else:\n",
        "            changer = -1*(f(x_next, y_next)-f(x_current, y_current))/T\n",
        "            p1 = math.exp(changer)\n",
        "            if (p1 > np.random.random()):\n",
        "                x_current = x_next\n",
        "                y_current = y_next\n",
        "    T = K*T\n",
        "\n",
        "# display results\n",
        "z = np.array([temperature_fictive[x_best, y_best]])\n",
        "x_best = np.array([x_best])\n",
        "y_best = np.array([y_best])\n",
        "print(x_best, y_best, z)\n",
        "# print(temperature_fictive.min())\n",
        "print(temperature_fictive.max())\n",
        "fig = plt.figure()\n",
        "plt.imshow(temperature_fictive)\n",
        "plt.colorbar()\n",
        "plt.plot(x_best, y_best, \"ro\", label=\"ex\")\n",
        "# ax = Axes3D(fig)\n",
        "# ax.plot_surface(X, Y, temperature_fictive, cmap=plt.cm.winter)\n",
        "# ax.scatter(x_best, y_best, z, c='r', marker='o')\n",
        "plt.show()\n"
      ],
      "execution_count": 3,
      "outputs": [
        {
          "output_type": "stream",
          "text": [
            "[70] [18] [1.387797]\n",
            "318.2678988306415\n"
          ],
          "name": "stdout"
        },
        {
          "output_type": "display_data",
          "data": {
            "image/png": "[encoded data removed]",
            "text/plain": [
              "<Figure size 432x288 with 2 Axes>"
            ]
          },
          "metadata": {
            "tags": [],
            "needs_background": "light"
          }
        }
      ]
    }
  ]
}