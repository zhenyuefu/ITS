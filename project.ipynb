{
  "nbformat": 4,
  "nbformat_minor": 0,
  "metadata": {
    "colab": {
      "name": "project.ipynb",
      "provenance": [],
      "authorship_tag": "ABX9TyNOBMwOKKs4aozeTIRvbK3L",
      "include_colab_link": true
    },
    "kernelspec": {
      "name": "python3",
      "display_name": "Python 3"
    }
  },
  "cells": [
    {
      "cell_type": "markdown",
      "metadata": {
        "id": "view-in-github",
        "colab_type": "text"
      },
      "source": [
        "<a href=\"https://colab.research.google.com/github/zhenyuefu/ITS/blob/master/project.ipynb\" target=\"_parent\"><img src=\"https://colab.research.google.com/assets/colab-badge.svg\" alt=\"Open In Colab\"/></a>"
      ]
    },
    {
      "cell_type": "code",
      "metadata": {
        "id": "y6NHVsxF2eB1",
        "colab_type": "code",
        "colab": {
          "base_uri": "https://localhost:8080/",
          "height": 283
        },
        "outputId": "96f42894-34df-441b-edf5-04c83943ba8d"
      },
      "source": [
        "from __future__ import division\n",
        "import numpy as np\n",
        "import matplotlib.pyplot as plt\n",
        "import math\n",
        " \n",
        "#define aim function\n",
        "def aimFunction(x):\n",
        "    y=x**3-60*x**2-4*x+6\n",
        "    return y\n",
        "x=[i/10 for i in range(1000)]\n",
        "y=[0 for i in range(1000)]\n",
        "for i in range(1000):\n",
        "    y[i]=aimFunction(x[i])\n",
        " \n",
        "plt.plot(x,y)"
      ],
      "execution_count": 1,
      "outputs": [
        {
          "output_type": "execute_result",
          "data": {
            "text/plain": [
              "[<matplotlib.lines.Line2D at 0x7f7cade01c88>]"
            ]
          },
          "metadata": {
            "tags": []
          },
          "execution_count": 1
        },
        {
          "output_type": "display_data",
          "data": {
            "image/png": "[encoded data removed]",
            "text/plain": [
              "<Figure size 432x288 with 1 Axes>"
            ]
          },
          "metadata": {
            "tags": [],
            "needs_background": "light"
          }
        }
      ]
    },
    {
      "cell_type": "code",
      "metadata": {
        "id": "8TJKA9WgVhHU",
        "colab_type": "code",
        "colab": {
          "base_uri": "https://localhost:8080/",
          "height": 1000
        },
        "outputId": "371f2d0d-85cf-467d-8e30-b9a3002c027d"
      },
      "source": [
        "T=1000 #initiate temperature\n",
        "Tmin=10 #minimum value of terperature\n",
        "x=np.random.uniform(low=0,high=100)#initiate x\n",
        "k=50 #times of internal circulation \n",
        "y=0#initiate result\n",
        "t=0#time\n",
        "while T>=Tmin:\n",
        "    for i in range(k):\n",
        "        #calculate y\n",
        "        y=aimFunction(x)\n",
        "        #generate a new x in the neighboorhood of x by transform function\n",
        "        xNew=x+np.random.uniform(low=-0.055,high=0.055)*T\n",
        "        if (0<=xNew and xNew<=100):\n",
        "            yNew=aimFunction(xNew)\n",
        "            if yNew-y<0:\n",
        "                x=xNew\n",
        "            else:\n",
        "                #metropolis principle\n",
        "                p=math.exp(-(yNew-y)/T)\n",
        "                r=np.random.uniform(low=0,high=1)\n",
        "                if r<p:\n",
        "                    x=xNew\n",
        "    t+=1\n",
        "    print(t)\n",
        "    T=1000/(1+t)\n",
        "    \n",
        "print(x,aimFunction(x))"
      ],
      "execution_count": 3,
      "outputs": [
        {
          "output_type": "stream",
          "text": [
            "1\n",
            "2\n",
            "3\n",
            "4\n",
            "5\n",
            "6\n",
            "7\n",
            "8\n",
            "9\n",
            "10\n",
            "11\n",
            "12\n",
            "13\n",
            "14\n",
            "15\n",
            "16\n",
            "17\n",
            "18\n",
            "19\n",
            "20\n",
            "21\n",
            "22\n",
            "23\n",
            "24\n",
            "25\n",
            "26\n",
            "27\n",
            "28\n",
            "29\n",
            "30\n",
            "31\n",
            "32\n",
            "33\n",
            "34\n",
            "35\n",
            "36\n",
            "37\n",
            "38\n",
            "39\n",
            "40\n",
            "41\n",
            "42\n",
            "43\n",
            "44\n",
            "45\n",
            "46\n",
            "47\n",
            "48\n",
            "49\n",
            "50\n",
            "51\n",
            "52\n",
            "53\n",
            "54\n",
            "55\n",
            "56\n",
            "57\n",
            "58\n",
            "59\n",
            "60\n",
            "61\n",
            "62\n",
            "63\n",
            "64\n",
            "65\n",
            "66\n",
            "67\n",
            "68\n",
            "69\n",
            "70\n",
            "71\n",
            "72\n",
            "73\n",
            "74\n",
            "75\n",
            "76\n",
            "77\n",
            "78\n",
            "79\n",
            "80\n",
            "81\n",
            "82\n",
            "83\n",
            "84\n",
            "85\n",
            "86\n",
            "87\n",
            "88\n",
            "89\n",
            "90\n",
            "91\n",
            "92\n",
            "93\n",
            "94\n",
            "95\n",
            "96\n",
            "97\n",
            "98\n",
            "99\n",
            "100\n",
            "39.82634343243071 -32151.501214414362\n"
          ],
          "name": "stdout"
        }
      ]
    }
  ]
}