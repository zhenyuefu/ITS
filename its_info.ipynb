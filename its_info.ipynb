{
  "nbformat": 4,
  "nbformat_minor": 0,
  "metadata": {
    "colab": {
      "name": "its-info1.ipynb",
      "provenance": [],
      "collapsed_sections": [],
      "authorship_tag": "ABX9TyPVXxeJ08zFj5/514lhfcTK",
      "include_colab_link": true
    },
    "kernelspec": {
      "name": "python3",
      "display_name": "Python 3"
    }
  },
  "cells": [
    {
      "cell_type": "markdown",
      "metadata": {
        "id": "view-in-github",
        "colab_type": "text"
      },
      "source": [
        "<a href=\"https://colab.research.google.com/github/zhenyuefu/ITS/blob/master/its_info.ipynb\" target=\"_parent\"><img src=\"https://colab.research.google.com/assets/colab-badge.svg\" alt=\"Open In Colab\"/></a>"
      ]
    },
    {
      "cell_type": "code",
      "metadata": {
        "id": "zd6LDkxDQgUV",
        "colab_type": "code",
        "colab": {}
      },
      "source": [
        "nom = input(\"entrer votre nom:\")\n",
        "annee_naissance = int(input(\"entrer votre annee de naissance:\"))\n",
        "print(\"bonjour\",nom,\"vous avez\", 2020-annee_naissance, \"ans\")"
      ],
      "execution_count": 0,
      "outputs": []
    },
    {
      "cell_type": "code",
      "metadata": {
        "id": "NmGbzclyhgWu",
        "colab_type": "code",
        "colab": {}
      },
      "source": [
        "n = int(input(\"input n:\"))\n",
        "print((n*2+10)/2-n)"
      ],
      "execution_count": 0,
      "outputs": []
    },
    {
      "cell_type": "code",
      "metadata": {
        "id": "f0rl6xN_hgws",
        "colab_type": "code",
        "colab": {}
      },
      "source": [
        "import math\n",
        "r = int(input(\"rayon =\"))\n",
        "pi = 3.14\n",
        "print(\"perimetre:\",2*math.pi*r,\"surface:\",math.pi*r*r)"
      ],
      "execution_count": 0,
      "outputs": []
    },
    {
      "cell_type": "code",
      "metadata": {
        "id": "bYiGry_khhGU",
        "colab_type": "code",
        "colab": {}
      },
      "source": [
        "s = int(input(\"second:\"))\n",
        "m = s // 60\n",
        "s = s % 60\n",
        "h = m // 60 \n",
        "m = m % 60\n",
        "print(h,\"h\",m,\"min\",s,\"s\")"
      ],
      "execution_count": 0,
      "outputs": []
    },
    {
      "cell_type": "code",
      "metadata": {
        "id": "qY0cphWtf1ro",
        "colab_type": "code",
        "colab": {}
      },
      "source": [
        "n = int(input(\"input n:\"))\n",
        "if n < 0:\n",
        "    n = -n\n",
        "print(\"valeur absoule de n:\",n)"
      ],
      "execution_count": 0,
      "outputs": []
    },
    {
      "cell_type": "code",
      "metadata": {
        "id": "h3rFU4Jtf81s",
        "colab_type": "code",
        "colab": {}
      },
      "source": [
        "import math\n",
        "print(\"demande coefficient de equation\")\n",
        "a = int(input(\"a:\"))\n",
        "b = int(input(\"b:\"))\n",
        "c = int(input(\"c:\"))\n",
        "d = b*b-4*a*c\n",
        "if d < 0:\n",
        "    print(\"il n'y a pas de racine reel\")\n",
        "elif d == 0:\n",
        "    print(\"un racine:\",-b/(2*a))\n",
        "else:\n",
        "    print(\"racine 1:\",(-b-math.sqrt(d))/(2*a),\"racine 2:\",(-b+math.sqrt(d))/(2*a))"
      ],
      "execution_count": 0,
      "outputs": []
    },
    {
      "cell_type": "code",
      "metadata": {
        "id": "p2rWHQWqjHd6",
        "colab_type": "code",
        "colab": {}
      },
      "source": [
        "n = int(input(\"input n:\"))\n",
        "s,f = 0,1\n",
        "for i in range(1,n):\n",
        "    s = s + i\n",
        "    f = f * i\n",
        "print(\"la somme de 1 a n:\",s)\n",
        "print(\"la factorielle de n:\",f)"
      ],
      "execution_count": 0,
      "outputs": []
    },
    {
      "cell_type": "code",
      "metadata": {
        "id": "Ekjd2V-9kSba",
        "colab_type": "code",
        "colab": {}
      },
      "source": [
        "n = int(input(\"input n:\"))\n",
        "i,s = 1,0\n",
        "while i <= n:\n",
        "    s = s + i\n",
        "    i = i + 2\n",
        "print(\"la somme de 1 a n:\",s)"
      ],
      "execution_count": 0,
      "outputs": []
    },
    {
      "cell_type": "code",
      "metadata": {
        "id": "1RY-DCG9mKsF",
        "colab_type": "code",
        "colab": {}
      },
      "source": [
        "import math\n",
        "n = int(input(\"input n:\"))\n",
        "c = 0\n",
        "for i in range(2,int(math.sqrt(n))+1):\n",
        "    if n % i == 0:\n",
        "        c += 1\n",
        "if c == 0:\n",
        "    print(\"nombre premier\")\n",
        "else:\n",
        "    print(\"nombre compose\")\n"
      ],
      "execution_count": 0,
      "outputs": []
    },
    {
      "cell_type": "code",
      "metadata": {
        "id": "yZQhmVVRLdbP",
        "colab_type": "code",
        "outputId": "45395dbb-2a2b-463e-c29f-389745b095a4",
        "colab": {
          "base_uri": "https://localhost:8080/",
          "height": 190
        }
      },
      "source": [
        "total = int(input(\"renter un nombre entre 3 et 18:\"))\n",
        "while not ((total >= 3) and (total <= 18)):\n",
        "    total = int(input(\"nombre hor limite, renter une autre fois:\"))\n",
        "for i in range(1,7):\n",
        "    for j in range(1,7):\n",
        "        for k in range(1,7):\n",
        "            if total == (i + j + k):\n",
        "                print(i,',',j,',',k)\n",
        "print(\"non permutations:\")\n",
        "for i in range(1,7):\n",
        "    for j in range(i,7):\n",
        "        for k in range(j,7):\n",
        "            if total == (i + j + k):\n",
        "                print(i,',',j,',',k)\n"
      ],
      "execution_count": 0,
      "outputs": [
        {
          "output_type": "stream",
          "text": [
            "renter un nombre entre 3 et 18:5\n",
            "1 , 1 , 3\n",
            "1 , 2 , 2\n",
            "1 , 3 , 1\n",
            "2 , 1 , 2\n",
            "2 , 2 , 1\n",
            "3 , 1 , 1\n",
            "non permutations:\n",
            "1 , 1 , 3\n",
            "1 , 2 , 2\n"
          ],
          "name": "stdout"
        }
      ]
    },
    {
      "cell_type": "code",
      "metadata": {
        "id": "YLzA7HQBb_Jd",
        "colab_type": "code",
        "outputId": "da2c9da2-4c37-4f3e-d977-4a15b8f97107",
        "colab": {
          "base_uri": "https://localhost:8080/",
          "height": 34
        }
      },
      "source": [
        "import math\n",
        "import random\n",
        "\n",
        "n,p=0,0\n",
        "epsilon = 1\n",
        "while p < 100000:\n",
        "    x = random.random()\n",
        "    y = random.random()\n",
        "    if math.sqrt(x**2+y**2) <= 1:\n",
        "        p+=1\n",
        "    n+=1\n",
        "    pi = 4*p/n\n",
        "print(pi)"
      ],
      "execution_count": 0,
      "outputs": [
        {
          "output_type": "stream",
          "text": [
            "3.144752979653448\n"
          ],
          "name": "stdout"
        }
      ]
    },
    {
      "cell_type": "code",
      "metadata": {
        "id": "WSiUV4odihmr",
        "colab_type": "code",
        "outputId": "86186250-a154-467d-fbf7-177805ec98ce",
        "colab": {
          "base_uri": "https://localhost:8080/",
          "height": 68
        }
      },
      "source": [
        "print(\"tous les entiers pairs compris entre 0 et N\")\n",
        "N = int(input(\"input N:\"))\n",
        "listPairs = []\n",
        "for i in range(N+1):\n",
        "    if i % 2 == 0:\n",
        "        listPairs.append(i)\n",
        "print(max(listPairs))"
      ],
      "execution_count": 0,
      "outputs": [
        {
          "output_type": "stream",
          "text": [
            "tous les entiers pairs compris entre 0 et N\n",
            "input N:11\n",
            "10\n"
          ],
          "name": "stdout"
        }
      ]
    },
    {
      "cell_type": "code",
      "metadata": {
        "id": "xs452WTPlhkU",
        "colab_type": "code",
        "outputId": "626d2cc0-3e66-4ace-a113-6118064930d3",
        "colab": {
          "base_uri": "https://localhost:8080/",
          "height": 34
        }
      },
      "source": [
        "L=[1,1,2,3,2,1,1]\n",
        "long = len(L)\n",
        "sym = True\n",
        "\n",
        "for i in range (0, long//2) :\n",
        "     if L[i] != L[len(L)-1-i] :\n",
        "          sym = False\n",
        "print (sym)"
      ],
      "execution_count": 0,
      "outputs": [
        {
          "output_type": "stream",
          "text": [
            "True\n"
          ],
          "name": "stdout"
        }
      ]
    },
    {
      "cell_type": "code",
      "metadata": {
        "id": "raJuqa0ImDAi",
        "colab_type": "code",
        "outputId": "c5507e3b-b9a2-43dc-bf2d-fc40685c1900",
        "colab": {
          "base_uri": "https://localhost:8080/",
          "height": 34
        }
      },
      "source": [
        "L=[1,2,3,4,2,8]\n",
        "L_renverse=[]\n",
        "lenth = len(L)\n",
        "for i in range(lenth):\n",
        "    L_renverse.append(L[lenth - 1 - i])\n",
        "print(L_renverse)"
      ],
      "execution_count": 0,
      "outputs": [
        {
          "output_type": "stream",
          "text": [
            "[8, 2, 4, 3, 2, 1]\n"
          ],
          "name": "stdout"
        }
      ]
    },
    {
      "cell_type": "code",
      "metadata": {
        "id": "IZ5J_fnznn9S",
        "colab_type": "code",
        "outputId": "233604c6-26f9-4254-993b-9da28a6574df",
        "colab": {
          "base_uri": "https://localhost:8080/",
          "height": 34
        }
      },
      "source": [
        "L=[1,2,3,4,2,8]\n",
        "lenth = len(L)\n",
        "s=0\n",
        "for i in L:\n",
        "    s=s+i\n",
        "moyenne = s/lenth\n",
        "print(moyenne)"
      ],
      "execution_count": 0,
      "outputs": [
        {
          "output_type": "stream",
          "text": [
            "3.3333333333333335\n"
          ],
          "name": "stdout"
        }
      ]
    },
    {
      "cell_type": "code",
      "metadata": {
        "id": "37ob51lvo59U",
        "colab_type": "code",
        "outputId": "71b587c8-f2ac-4847-b78c-abefa646c967",
        "colab": {
          "base_uri": "https://localhost:8080/",
          "height": 51
        }
      },
      "source": [
        "def permut(a,b):\n",
        "    a,b=b,a\n",
        "\n",
        "a,b=1,2\n",
        "print(\"Avant:\",a,b)\n",
        "permut(1,2)\n",
        "print(\"Apres:\",a,b)"
      ],
      "execution_count": 0,
      "outputs": [
        {
          "output_type": "stream",
          "text": [
            "Avant; 1 2\n",
            "Apres: 1 2\n"
          ],
          "name": "stdout"
        }
      ]
    },
    {
      "cell_type": "code",
      "metadata": {
        "id": "-WJeRfAcqnNI",
        "colab_type": "code",
        "outputId": "2d8b30b8-c8bd-4401-bc63-4a45b5fb0716",
        "colab": {
          "base_uri": "https://localhost:8080/",
          "height": 34
        }
      },
      "source": [
        "def init(L,n):\n",
        "    for i in range(3,n):\n",
        "        if i % 2==1:\n",
        "            L.append(i)\n",
        "\n",
        "init(L,15)\n",
        "print(L)\n",
        "    "
      ],
      "execution_count": 0,
      "outputs": [
        {
          "output_type": "stream",
          "text": [
            "[3, 5, 7, 9, 11, 13]\n"
          ],
          "name": "stdout"
        }
      ]
    }
  ]
}